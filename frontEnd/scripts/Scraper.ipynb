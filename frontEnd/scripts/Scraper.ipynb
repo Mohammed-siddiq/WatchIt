{
 "cells": [
  {
   "cell_type": "code",
   "execution_count": 17,
   "metadata": {},
   "outputs": [],
   "source": [
    "from bs4 import BeautifulSoup\n",
    "import requests\n",
    "import time\n",
    "import random"
   ]
  },
  {
   "cell_type": "code",
   "execution_count": 22,
   "metadata": {},
   "outputs": [],
   "source": [
    "user_agent_list = [\n",
    "   #Chrome\n",
    "    'Mozilla/5.0 (Windows NT 10.0; Win64; x64) AppleWebKit/537.36 (KHTML, like Gecko) Chrome/60.0.3112.113 Safari/537.36',\n",
    "    'Mozilla/5.0 (Windows NT 6.1; Win64; x64) AppleWebKit/537.36 (KHTML, like Gecko) Chrome/60.0.3112.90 Safari/537.36',\n",
    "    'Mozilla/5.0 (Windows NT 5.1; Win64; x64) AppleWebKit/537.36 (KHTML, like Gecko) Chrome/60.0.3112.90 Safari/537.36',\n",
    "    'Mozilla/5.0 (Windows NT 6.2; Win64; x64) AppleWebKit/537.36 (KHTML, like Gecko) Chrome/60.0.3112.90 Safari/537.36',\n",
    "    'Mozilla/5.0 (X11; Linux x86_64) AppleWebKit/537.36 (KHTML, like Gecko) Chrome/44.0.2403.157 Safari/537.36',\n",
    "    'Mozilla/5.0 (Windows NT 6.3; Win64; x64) AppleWebKit/537.36 (KHTML, like Gecko) Chrome/60.0.3112.113 Safari/537.36',\n",
    "    'Mozilla/5.0 (Windows NT 10.0; Win64; x64) AppleWebKit/537.36 (KHTML, like Gecko) Chrome/57.0.2987.133 Safari/537.36',\n",
    "    'Mozilla/5.0 (Windows NT 6.1; Win64; x64) AppleWebKit/537.36 (KHTML, like Gecko) Chrome/57.0.2987.133 Safari/537.36',\n",
    "    'Mozilla/5.0 (Windows NT 10.0; Win64; x64) AppleWebKit/537.36 (KHTML, like Gecko) Chrome/55.0.2883.87 Safari/537.36',\n",
    "    'Mozilla/5.0 (Windows NT 6.1; Win64; x64) AppleWebKit/537.36 (KHTML, like Gecko) Chrome/55.0.2883.87 Safari/537.36',\n",
    "    #Firefox\n",
    "    'Mozilla/4.0 (compatible; MSIE 9.0; Windows NT 6.1)',\n",
    "    'Mozilla/5.0 (Windows NT 6.1; WOW64; Trident/7.0; rv:11.0) like Gecko',\n",
    "    'Mozilla/5.0 (compatible; MSIE 9.0; Windows NT 6.1; WOW64; Trident/5.0)',\n",
    "    'Mozilla/5.0 (Windows NT 6.1; Trident/7.0; rv:11.0) like Gecko',\n",
    "    'Mozilla/5.0 (Windows NT 6.2; WOW64; Trident/7.0; rv:11.0) like Gecko',\n",
    "    'Mozilla/5.0 (Windows NT 10.0; WOW64; Trident/7.0; rv:11.0) like Gecko',\n",
    "    'Mozilla/5.0 (compatible; MSIE 9.0; Windows NT 6.0; Trident/5.0)',\n",
    "    'Mozilla/5.0 (Windows NT 6.3; WOW64; Trident/7.0; rv:11.0) like Gecko',\n",
    "    'Mozilla/5.0 (compatible; MSIE 9.0; Windows NT 6.1; Trident/5.0)',\n",
    "    'Mozilla/5.0 (Windows NT 6.1; Win64; x64; Trident/7.0; rv:11.0) like Gecko',\n",
    "    'Mozilla/5.0 (compatible; MSIE 10.0; Windows NT 6.1; WOW64; Trident/6.0)',\n",
    "    'Mozilla/5.0 (compatible; MSIE 10.0; Windows NT 6.1; Trident/6.0)',\n",
    "    'Mozilla/4.0 (compatible; MSIE 8.0; Windows NT 5.1; Trident/4.0; .NET CLR 2.0.50727; .NET CLR 3.0.4506.2152; .NET CLR 3.5.30729)'\n",
    "]"
   ]
  },
  {
   "cell_type": "code",
   "execution_count": 23,
   "metadata": {},
   "outputs": [],
   "source": [
    "def get_beautiful_soup(url):\n",
    "    return BeautifulSoup(sleep_and_make_requests(url).content, 'html5lib')"
   ]
  },
  {
   "cell_type": "code",
   "execution_count": 24,
   "metadata": {},
   "outputs": [],
   "source": [
    "def split(strng, sep, pos):\n",
    "    strng = strng.split(sep)\n",
    "    return sep.join(strng[:pos]), sep.join(strng[pos:])"
   ]
  },
  {
   "cell_type": "code",
   "execution_count": 25,
   "metadata": {},
   "outputs": [],
   "source": [
    "BASE_URL = \"https://watchbase.com/watches\"\n",
    "def sleep_and_make_requests(url):\n",
    "    time.sleep(random.randint(10,16))\n",
    "    user_agent = random.choice(user_agent_list)\n",
    "    headers = {'User-Agent': user_agent}\n",
    "    r = requests.get(url,headers=headers)\n",
    "    return requests.get(BASE_URL)"
   ]
  },
  {
   "cell_type": "code",
   "execution_count": 26,
   "metadata": {},
   "outputs": [
    {
     "name": "stdout",
     "output_type": "stream",
     "text": [
      "<!DOCTYPE html>\n",
      "<html>\n",
      " <head>\n",
      "  <title>\n",
      "   Please verify that you are not a robot\n",
      "  </title>\n",
      "  <script type=\"text/javascript\">\n",
      "   var onloadCallback = function() {\n",
      "        grecaptcha.render('html_element', {\n",
      "          'sitekey' : '6Ld4yjcUAAAAAA0vpwpWBvvCRt4COwEGtLwIdIy6'\n",
      "        });\n",
      "      };\n",
      "  </script>\n",
      " </head>\n",
      " <body>\n",
      "  <div class=\"wrap\">\n",
      "   <p>\n",
      "    Please verify that you are not a robot.\n",
      "   </p>\n",
      "   <form action=\"captcha\" method=\"POST\">\n",
      "    <input name=\"_token\" type=\"hidden\" value=\"BKw9O4XzN5hj3xDV5L6Q6qx3QjdiKrWcWcJBj04l\"/>\n",
      "    <div id=\"html_element\">\n",
      "    </div>\n",
      "    <br/>\n",
      "    <input type=\"submit\" value=\"Submit\"/>\n",
      "   </form>\n",
      "  </div>\n",
      "  <script defer=\"\" src=\"https://www.google.com/recaptcha/api.js?onload=onloadCallback&amp;render=explicit\" sync=\"\">\n",
      "  </script>\n",
      " </body>\n",
      "</html>\n"
     ]
    }
   ],
   "source": [
    "get_beautiful_soup(BASE_URL)\n",
    "print(soup.prettify()) "
   ]
  },
  {
   "cell_type": "code",
   "execution_count": null,
   "metadata": {},
   "outputs": [],
   "source": [
    "def extract_watch_basic_info(info_table):\n",
    "    info = {}\n",
    "    rows = info_table.find_all('tr')\n",
    "    for row in rows:\n",
    "        info[row.find('th').string[:-1]] = row.find('td').string\n",
    "#     print(info)\n",
    "    return info"
   ]
  },
  {
   "cell_type": "code",
   "execution_count": null,
   "metadata": {},
   "outputs": [],
   "source": [
    "def extract_watch_details(url):\n",
    "    watch_info = {}\n",
    "    page = get_beautiful_soup(url)\n",
    "    info_tables = page.find_all('table',attrs={'class': 'info-table'})\n",
    "#     print(info_tables)\n",
    "    watch_info['basic_info'] = extract_watch_basic_info(info_tables[0])\n",
    "    watch_info['case'] = extract_watch_basic_info(info_tables[1])\n",
    "    watch_info['dial'] = extract_watch_basic_info(info_tables[2])\n",
    "    watch_info['movement'] = extract_watch_basic_info(info_tables[3])\n",
    "    watch_info['description'] = page.find('h2',attrs={'class':'description'}).find_next_sibling('p').text\n",
    "    watch_info['image_link'] = page.find('img', attrs= {'class' : 'thumb'})['src']\n",
    "#     print(watch_info)\n",
    "    return watch_info"
   ]
  },
  {
   "cell_type": "code",
   "execution_count": null,
   "metadata": {},
   "outputs": [],
   "source": [
    "all_brand_watches = soup.findAll('div',attrs={'class':'brand-box'})"
   ]
  },
  {
   "cell_type": "code",
   "execution_count": null,
   "metadata": {},
   "outputs": [],
   "source": [
    "all_brand_watches"
   ]
  },
  {
   "cell_type": "code",
   "execution_count": null,
   "metadata": {},
   "outputs": [],
   "source": [
    "watch_base = {}\n",
    "for brands in all_brand_watches:\n",
    "    brand_url = brands.find('h3').find('a')['href']\n",
    "    brand_name = brand_url.split('.com/')[1]\n",
    "    \n",
    "    all_watch_families = []\n",
    "    for li in brands.find_all('li')[1:]:\n",
    "        all_watch_families.append(li.find('a')['href'])\n",
    "    watch_base[brand_name] = all_watch_families\n"
   ]
  },
  {
   "cell_type": "code",
   "execution_count": null,
   "metadata": {},
   "outputs": [],
   "source": [
    "watch_base"
   ]
  },
  {
   "cell_type": "code",
   "execution_count": null,
   "metadata": {},
   "outputs": [],
   "source": [
    "all_watches={}\n",
    "for brand,watch_families in watch_base.items():\n",
    "    all_watches_for_family={}\n",
    "    for family in watch_families[:1]:\n",
    "        try:\n",
    "            watch_blocks = get_beautiful_soup(family).find_all('div',attrs = {'class':'item-block watch-block'})\n",
    "            family_watches=[block.find('a')['href'] for block in watch_blocks]\n",
    "            family_name = split(family,\"/\",4)[1]\n",
    "            all_watches_for_family[family_name] = family_watches\n",
    "        except:\n",
    "            continue\n",
    "    all_watches[brand] = all_watches_for_family\n",
    "all_watches"
   ]
  },
  {
   "cell_type": "code",
   "execution_count": null,
   "metadata": {},
   "outputs": [],
   "source": [
    "watch_info = {}\n",
    "for brand,all_watches in all_watches.items():\n",
    "    for family, watches in all_watches.items():\n",
    "        for watch in watches[:1]:\n",
    "            try:\n",
    "                watch_info = extract_watch_details(watch)\n",
    "            except:\n",
    "                continue"
   ]
  },
  {
   "cell_type": "code",
   "execution_count": null,
   "metadata": {},
   "outputs": [],
   "source": [
    "for attr,info in watch_info.items():\n",
    "   for k,v in info.items():\n",
    "    csv_dict[attr + \"_\" + k] = v\n"
   ]
  },
  {
   "cell_type": "code",
   "execution_count": null,
   "metadata": {},
   "outputs": [],
   "source": [
    "watch_blocks=get_beautiful_soup(all_watch_families[0]).find_all('div',attrs = {'class':'item-block watch-block'})\n",
    "        all_watches_for_brand = []\n",
    "# all_watches_for_brand = watch_blocks.apply(lambda x:x.find('a')['href'])\n",
    "        for watch_block in watch_blocks:\n",
    "        all_watches_for_brand.append(watch_block.find('a')['href'])\n",
    "        get_beautiful_soup(all_watches_for_brand[0]).find_all()"
   ]
  },
  {
   "cell_type": "code",
   "execution_count": null,
   "metadata": {},
   "outputs": [],
   "source": [
    "print(type(all_brand_watches[1]))"
   ]
  },
  {
   "cell_type": "code",
   "execution_count": null,
   "metadata": {},
   "outputs": [],
   "source": [
    "brand_url = all_brand_watches[1].find('h3').find('a')['href']\n",
    "brand_name = brand_url.split('.com/')[1]\n",
    "all_watch_families = []\n",
    "for li in all_brand_watches[1].find_all('li')[1:]:\n",
    "    all_watch_families.append(li.find('a')['href'])\n",
    "brand_url,brand_name,all_watch_families"
   ]
  },
  {
   "cell_type": "code",
   "execution_count": null,
   "metadata": {},
   "outputs": [],
   "source": [
    "watch_blocks=get_beautiful_soup(all_watch_families[0]).find_all('div',attrs = {'class':'item-block watch-block'})\n",
    "all_watches_for_brand = []\n",
    "# all_watches_for_brand = watch_blocks.apply(lambda x:x.find('a')['href'])\n",
    "for watch_block in watch_blocks:\n",
    "    all_watches_for_brand.append(watch_block.find('a')['href'])\n",
    "    get_beautiful_soup(all_watches_for_brand[0]).find_all()\n",
    "    \n",
    "# all_watches_for_brand = watch_blocks.find"
   ]
  },
  {
   "cell_type": "code",
   "execution_count": null,
   "metadata": {},
   "outputs": [],
   "source": [
    "all_watches_for_brand"
   ]
  },
  {
   "cell_type": "code",
   "execution_count": null,
   "metadata": {},
   "outputs": [],
   "source": [
    "get_beautiful_soup(all_watches_for_brand[0]).find_all()"
   ]
  },
  {
   "cell_type": "code",
   "execution_count": null,
   "metadata": {},
   "outputs": [],
   "source": [
    "all_watches_for_brand"
   ]
  },
  {
   "cell_type": "code",
   "execution_count": null,
   "metadata": {},
   "outputs": [],
   "source": []
  },
  {
   "cell_type": "code",
   "execution_count": null,
   "metadata": {},
   "outputs": [],
   "source": [
    "="
   ]
  },
  {
   "cell_type": "code",
   "execution_count": null,
   "metadata": {},
   "outputs": [],
   "source": []
  }
 ],
 "metadata": {
  "kernelspec": {
   "display_name": "Python 3",
   "language": "python",
   "name": "python3"
  },
  "language_info": {
   "codemirror_mode": {
    "name": "ipython",
    "version": 3
   },
   "file_extension": ".py",
   "mimetype": "text/x-python",
   "name": "python",
   "nbconvert_exporter": "python",
   "pygments_lexer": "ipython3",
   "version": "3.6.5"
  }
 },
 "nbformat": 4,
 "nbformat_minor": 2
}
